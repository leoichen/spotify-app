{
 "cells": [
  {
   "cell_type": "markdown",
   "id": "b1d6958f",
   "metadata": {},
   "source": [
    "## Spotify API"
   ]
  },
  {
   "cell_type": "code",
   "execution_count": 57,
   "id": "6d4c9ed0",
   "metadata": {},
   "outputs": [],
   "source": [
    "import spotipy\n",
    "from spotipy.oauth2 import SpotifyClientCredentials\n",
    "\n",
    "client_id = ''\n",
    "client_secret = ''\n",
    "\n",
    "# Authenticate with Spotify\n",
    "auth_manager = SpotifyClientCredentials(client_id=client_id, client_secret=client_secret)\n",
    "sp = spotipy.Spotify(auth_manager=auth_manager)\n",
    "\n"
   ]
  },
  {
   "cell_type": "code",
   "execution_count": 75,
   "id": "a10d0957",
   "metadata": {},
   "outputs": [
    {
     "data": {
      "text/html": [
       "<div>\n",
       "<style scoped>\n",
       "    .dataframe tbody tr th:only-of-type {\n",
       "        vertical-align: middle;\n",
       "    }\n",
       "\n",
       "    .dataframe tbody tr th {\n",
       "        vertical-align: top;\n",
       "    }\n",
       "\n",
       "    .dataframe thead th {\n",
       "        text-align: right;\n",
       "    }\n",
       "</style>\n",
       "<table border=\"1\" class=\"dataframe\">\n",
       "  <thead>\n",
       "    <tr style=\"text-align: right;\">\n",
       "      <th></th>\n",
       "      <th>name</th>\n",
       "      <th>artist</th>\n",
       "      <th>album</th>\n",
       "      <th>release_date</th>\n",
       "      <th>duration_ms</th>\n",
       "      <th>explicit</th>\n",
       "      <th>popularity</th>\n",
       "      <th>danceability</th>\n",
       "      <th>energy</th>\n",
       "      <th>key</th>\n",
       "      <th>...</th>\n",
       "      <th>instrumentalness</th>\n",
       "      <th>liveness</th>\n",
       "      <th>valence</th>\n",
       "      <th>tempo</th>\n",
       "      <th>type</th>\n",
       "      <th>id</th>\n",
       "      <th>uri</th>\n",
       "      <th>track_href</th>\n",
       "      <th>analysis_url</th>\n",
       "      <th>time_signature</th>\n",
       "    </tr>\n",
       "  </thead>\n",
       "  <tbody>\n",
       "    <tr>\n",
       "      <th>0</th>\n",
       "      <td>I Had Some Help (Feat. Morgan Wallen)</td>\n",
       "      <td>Post Malone</td>\n",
       "      <td>I Had Some Help</td>\n",
       "      <td>2024-05-10</td>\n",
       "      <td>178205</td>\n",
       "      <td>True</td>\n",
       "      <td>95</td>\n",
       "      <td>0.638</td>\n",
       "      <td>0.855</td>\n",
       "      <td>7</td>\n",
       "      <td>...</td>\n",
       "      <td>0.000000</td>\n",
       "      <td>0.2450</td>\n",
       "      <td>0.731</td>\n",
       "      <td>127.986</td>\n",
       "      <td>audio_features</td>\n",
       "      <td>7221xIgOnuakPdLqT0F3nP</td>\n",
       "      <td>spotify:track:7221xIgOnuakPdLqT0F3nP</td>\n",
       "      <td>https://api.spotify.com/v1/tracks/7221xIgOnuak...</td>\n",
       "      <td>https://api.spotify.com/v1/audio-analysis/7221...</td>\n",
       "      <td>4</td>\n",
       "    </tr>\n",
       "    <tr>\n",
       "      <th>1</th>\n",
       "      <td>Please Please Please</td>\n",
       "      <td>Sabrina Carpenter</td>\n",
       "      <td>Please Please Please</td>\n",
       "      <td>2024-06-06</td>\n",
       "      <td>186365</td>\n",
       "      <td>True</td>\n",
       "      <td>98</td>\n",
       "      <td>0.669</td>\n",
       "      <td>0.586</td>\n",
       "      <td>9</td>\n",
       "      <td>...</td>\n",
       "      <td>0.000000</td>\n",
       "      <td>0.1040</td>\n",
       "      <td>0.579</td>\n",
       "      <td>107.071</td>\n",
       "      <td>audio_features</td>\n",
       "      <td>5N3hjp1WNayUPZrA8kJmJP</td>\n",
       "      <td>spotify:track:5N3hjp1WNayUPZrA8kJmJP</td>\n",
       "      <td>https://api.spotify.com/v1/tracks/5N3hjp1WNayU...</td>\n",
       "      <td>https://api.spotify.com/v1/audio-analysis/5N3h...</td>\n",
       "      <td>4</td>\n",
       "    </tr>\n",
       "    <tr>\n",
       "      <th>2</th>\n",
       "      <td>BIRDS OF A FEATHER</td>\n",
       "      <td>Billie Eilish</td>\n",
       "      <td>HIT ME HARD AND SOFT</td>\n",
       "      <td>2024-05-17</td>\n",
       "      <td>210373</td>\n",
       "      <td>False</td>\n",
       "      <td>99</td>\n",
       "      <td>0.747</td>\n",
       "      <td>0.507</td>\n",
       "      <td>2</td>\n",
       "      <td>...</td>\n",
       "      <td>0.060800</td>\n",
       "      <td>0.1170</td>\n",
       "      <td>0.438</td>\n",
       "      <td>104.978</td>\n",
       "      <td>audio_features</td>\n",
       "      <td>6dOtVTDdiauQNBQEDOtlAB</td>\n",
       "      <td>spotify:track:6dOtVTDdiauQNBQEDOtlAB</td>\n",
       "      <td>https://api.spotify.com/v1/tracks/6dOtVTDdiauQ...</td>\n",
       "      <td>https://api.spotify.com/v1/audio-analysis/6dOt...</td>\n",
       "      <td>4</td>\n",
       "    </tr>\n",
       "    <tr>\n",
       "      <th>3</th>\n",
       "      <td>Good Luck, Babe!</td>\n",
       "      <td>Chappell Roan</td>\n",
       "      <td>Good Luck, Babe!</td>\n",
       "      <td>2024-04-05</td>\n",
       "      <td>218423</td>\n",
       "      <td>False</td>\n",
       "      <td>96</td>\n",
       "      <td>0.700</td>\n",
       "      <td>0.582</td>\n",
       "      <td>11</td>\n",
       "      <td>...</td>\n",
       "      <td>0.000000</td>\n",
       "      <td>0.0881</td>\n",
       "      <td>0.785</td>\n",
       "      <td>116.712</td>\n",
       "      <td>audio_features</td>\n",
       "      <td>0WbMK4wrZ1wFSty9F7FCgu</td>\n",
       "      <td>spotify:track:0WbMK4wrZ1wFSty9F7FCgu</td>\n",
       "      <td>https://api.spotify.com/v1/tracks/0WbMK4wrZ1wF...</td>\n",
       "      <td>https://api.spotify.com/v1/audio-analysis/0WbM...</td>\n",
       "      <td>4</td>\n",
       "    </tr>\n",
       "    <tr>\n",
       "      <th>4</th>\n",
       "      <td>Espresso</td>\n",
       "      <td>Sabrina Carpenter</td>\n",
       "      <td>Espresso</td>\n",
       "      <td>2024-04-12</td>\n",
       "      <td>175459</td>\n",
       "      <td>True</td>\n",
       "      <td>99</td>\n",
       "      <td>0.701</td>\n",
       "      <td>0.760</td>\n",
       "      <td>0</td>\n",
       "      <td>...</td>\n",
       "      <td>0.000065</td>\n",
       "      <td>0.1850</td>\n",
       "      <td>0.690</td>\n",
       "      <td>103.969</td>\n",
       "      <td>audio_features</td>\n",
       "      <td>2qSkIjg1o9h3YT9RAgYN75</td>\n",
       "      <td>spotify:track:2qSkIjg1o9h3YT9RAgYN75</td>\n",
       "      <td>https://api.spotify.com/v1/tracks/2qSkIjg1o9h3...</td>\n",
       "      <td>https://api.spotify.com/v1/audio-analysis/2qSk...</td>\n",
       "      <td>4</td>\n",
       "    </tr>\n",
       "  </tbody>\n",
       "</table>\n",
       "<p>5 rows × 24 columns</p>\n",
       "</div>"
      ],
      "text/plain": [
       "                                    name             artist  \\\n",
       "0  I Had Some Help (Feat. Morgan Wallen)        Post Malone   \n",
       "1                   Please Please Please  Sabrina Carpenter   \n",
       "2                     BIRDS OF A FEATHER      Billie Eilish   \n",
       "3                       Good Luck, Babe!      Chappell Roan   \n",
       "4                               Espresso  Sabrina Carpenter   \n",
       "\n",
       "                  album release_date  duration_ms  explicit  popularity  \\\n",
       "0       I Had Some Help   2024-05-10       178205      True          95   \n",
       "1  Please Please Please   2024-06-06       186365      True          98   \n",
       "2  HIT ME HARD AND SOFT   2024-05-17       210373     False          99   \n",
       "3      Good Luck, Babe!   2024-04-05       218423     False          96   \n",
       "4              Espresso   2024-04-12       175459      True          99   \n",
       "\n",
       "   danceability  energy  key  ...  instrumentalness  liveness  valence  \\\n",
       "0         0.638   0.855    7  ...          0.000000    0.2450    0.731   \n",
       "1         0.669   0.586    9  ...          0.000000    0.1040    0.579   \n",
       "2         0.747   0.507    2  ...          0.060800    0.1170    0.438   \n",
       "3         0.700   0.582   11  ...          0.000000    0.0881    0.785   \n",
       "4         0.701   0.760    0  ...          0.000065    0.1850    0.690   \n",
       "\n",
       "     tempo            type                      id  \\\n",
       "0  127.986  audio_features  7221xIgOnuakPdLqT0F3nP   \n",
       "1  107.071  audio_features  5N3hjp1WNayUPZrA8kJmJP   \n",
       "2  104.978  audio_features  6dOtVTDdiauQNBQEDOtlAB   \n",
       "3  116.712  audio_features  0WbMK4wrZ1wFSty9F7FCgu   \n",
       "4  103.969  audio_features  2qSkIjg1o9h3YT9RAgYN75   \n",
       "\n",
       "                                    uri  \\\n",
       "0  spotify:track:7221xIgOnuakPdLqT0F3nP   \n",
       "1  spotify:track:5N3hjp1WNayUPZrA8kJmJP   \n",
       "2  spotify:track:6dOtVTDdiauQNBQEDOtlAB   \n",
       "3  spotify:track:0WbMK4wrZ1wFSty9F7FCgu   \n",
       "4  spotify:track:2qSkIjg1o9h3YT9RAgYN75   \n",
       "\n",
       "                                          track_href  \\\n",
       "0  https://api.spotify.com/v1/tracks/7221xIgOnuak...   \n",
       "1  https://api.spotify.com/v1/tracks/5N3hjp1WNayU...   \n",
       "2  https://api.spotify.com/v1/tracks/6dOtVTDdiauQ...   \n",
       "3  https://api.spotify.com/v1/tracks/0WbMK4wrZ1wF...   \n",
       "4  https://api.spotify.com/v1/tracks/2qSkIjg1o9h3...   \n",
       "\n",
       "                                        analysis_url time_signature  \n",
       "0  https://api.spotify.com/v1/audio-analysis/7221...              4  \n",
       "1  https://api.spotify.com/v1/audio-analysis/5N3h...              4  \n",
       "2  https://api.spotify.com/v1/audio-analysis/6dOt...              4  \n",
       "3  https://api.spotify.com/v1/audio-analysis/0WbM...              4  \n",
       "4  https://api.spotify.com/v1/audio-analysis/2qSk...              4  \n",
       "\n",
       "[5 rows x 24 columns]"
      ]
     },
     "execution_count": 75,
     "metadata": {},
     "output_type": "execute_result"
    }
   ],
   "source": [
    "import pandas as pd\n",
    "\n",
    "track_res = sp.search(q='genre:pop', type = 'track', limit = 20)\n",
    "tracks = track_res['tracks']['items']\n",
    "\n",
    "all_dicts = []\n",
    "for item in tracks:\n",
    "    cur_dict = sp.audio_features(item['id'])[0]\n",
    "    cur_dict['name'] = item['name']\n",
    "    cur_dict['artist'] = item['artists'][0]['name']\n",
    "    cur_dict['album'] = item['album']['name']\n",
    "    \n",
    "    spec_track = sp.track(item['id'])\n",
    "    cur_dict['release_date'] = spec_track['album']['release_date']\n",
    "    cur_dict['duration_ms'] = spec_track['duration_ms']\n",
    "    cur_dict['explicit'] = spec_track['explicit']\n",
    "    cur_dict['popularity'] = spec_track['popularity']\n",
    "    \n",
    "    all_dicts.append(cur_dict)\n",
    "\n",
    "cols_custom = ['name', 'artist', 'album', 'release_date', 'duration_ms', 'explicit', 'popularity']\n",
    "df = pd.DataFrame(all_dicts)\n",
    "column_order = cols_custom + [col for col in df.columns if col not in cols_custom]\n",
    "df = df[column_order]\n",
    "df.head()"
   ]
  },
  {
   "cell_type": "code",
   "execution_count": 72,
   "id": "1db2468c",
   "metadata": {},
   "outputs": [
    {
     "data": {
      "text/plain": [
       "'Sabrina Carpenter'"
      ]
     },
     "execution_count": 72,
     "metadata": {},
     "output_type": "execute_result"
    }
   ],
   "source": [
    "spec_track['artists'][0]['name']"
   ]
  },
  {
   "cell_type": "code",
   "execution_count": 35,
   "id": "a0b1bf0a",
   "metadata": {},
   "outputs": [
    {
     "name": "stdout",
     "output_type": "stream",
     "text": [
      "Access Token: BQB6jkAgaN-dZxtv0Njv82rybDFQ5X_gTCCLj55Fd_2gmCkJwzEA-MBUsddoBuhkfcEhS60R9tBLANJosfd1aONxxx8kL_DN2chtpe-y9c8O8gZ__Sg\n"
     ]
    }
   ],
   "source": [
    "import requests\n",
    "import base64\n",
    "\n",
    "\n",
    "client_id = '34c13569cb8f4b3f8e770d2087ba64ac'\n",
    "client_secret = 'a80605ded4e44c2db72a018981a59d9f'\n",
    "\n",
    "auth_str = f'{client_id}:{client_secret}'\n",
    "b64_auth_str = base64.b64encode(auth_str.encode()).decode()\n",
    "\n",
    "headers = {\n",
    "    'Authorization': f'Basic {b64_auth_str}'\n",
    "}\n",
    "\n",
    "data = {\n",
    "    'grant_type': 'client_credentials'\n",
    "}\n",
    "\n",
    "response = requests.post('https://accounts.spotify.com/api/token', headers = headers, data = data)\n",
    "access_token = response.json().get('access_token')\n",
    "\n",
    "print(f'Access Token: {access_token}')"
   ]
  },
  {
   "cell_type": "code",
   "execution_count": 36,
   "id": "1c60d305",
   "metadata": {},
   "outputs": [],
   "source": [
    "headers = {\n",
    "    'Authorization': f'Bearer {access_token}'\n",
    "}\n",
    "\n",
    "params = {\n",
    "    'q': 'genre:pop',\n",
    "    'type': 'track', \n",
    "    'limit': 50\n",
    "}\n",
    "\n",
    "response = requests.get('https://api.spotify.com/v1/search', headers = headers, params = params)\n",
    "search_results = response.json()\n",
    "\n"
   ]
  },
  {
   "cell_type": "code",
   "execution_count": 55,
   "id": "e70d73f4",
   "metadata": {},
   "outputs": [
    {
     "data": {
      "text/plain": [
       "'I Had Some Help (Feat. Morgan Wallen)'"
      ]
     },
     "execution_count": 55,
     "metadata": {},
     "output_type": "execute_result"
    }
   ],
   "source": [
    "search_results['tracks']['items']"
   ]
  },
  {
   "cell_type": "code",
   "execution_count": 13,
   "id": "9ac61e54",
   "metadata": {},
   "outputs": [
    {
     "name": "stdout",
     "output_type": "stream",
     "text": [
      "I Had Some Help (Feat. Morgan Wallen) by Post Malone\n",
      "Please Please Please by Sabrina Carpenter\n",
      "BIRDS OF A FEATHER by Billie Eilish\n",
      "Good Luck, Babe! by Chappell Roan\n",
      "Espresso by Sabrina Carpenter\n",
      "A Bar Song (Tipsy) by Shaboozey\n",
      "HOT TO GO! by Chappell Roan\n",
      "LUNCH by Billie Eilish\n",
      "Red Wine Supernova by Chappell Roan\n",
      "Pink Pony Club by Chappell Roan\n",
      "CHIHIRO by Billie Eilish\n",
      "Stargazing by Myles Smith\n",
      "A Bar Song (Tipsy) by Shaboozey\n",
      "Cruel Summer by Taylor Swift\n",
      "End of Beginning by Djo\n",
      "Too Sweet by Hozier\n",
      "Slow It Down by Benson Boone\n",
      "Saturn by SZA\n",
      "Fortnight (feat. Post Malone) by Taylor Swift\n",
      "Feather by Sabrina Carpenter\n",
      "360 by Charli xcx\n",
      "Beautiful Things by Benson Boone\n",
      "Pour Me A Drink (Feat. Blake Shelton) by Post Malone\n",
      "Casual by Chappell Roan\n",
      "Too Sweet by Hozier\n",
      "Sweater Weather by The Neighbourhood\n",
      "WILDFLOWER by Billie Eilish\n",
      "Wind Up Missin’ You by Tucker Wetmore\n",
      "Snooze by SZA\n",
      "Nonsense by Sabrina Carpenter\n",
      "As It Was by Harry Styles\n",
      "you look like you love me (feat. Riley Green) by Ella Langley\n",
      "Miles On It by Marshmello\n",
      "Belong Together by Mark Ambor\n",
      "Beautiful Things by Benson Boone\n",
      "misses by Dominic Fike\n",
      "I Can Do It With a Broken Heart by Taylor Swift\n",
      "Femininomenon by Chappell Roan\n",
      "Heartless (feat. Morgan Wallen) by Diplo\n",
      "High Road (feat. Jessie Murph) by Koe Wetzel\n",
      "Shut up My Moms Calling by Hotel Ugly\n",
      "My Kink Is Karma by Chappell Roan\n",
      "Who by Jimin\n",
      "L’AMOUR DE MA VIE by Billie Eilish\n",
      "One Of The Girls (with JENNIE, Lily Rose Depp) by The Weeknd\n",
      "we can't be friends (wait for your love) by Ariana Grande\n",
      "Ric Flair Drip (with Metro Boomin) by Offset\n",
      "greedy by Tate McRae\n",
      "Smeraldo Garden Marching Band (feat. Loco) by Jimin\n",
      "BLUE by Billie Eilish\n"
     ]
    }
   ],
   "source": [
    "for item in search_results['tracks']['items']:\n",
    "    print(f\"{item['name']} by {item['artists'][0]['name']}\")"
   ]
  },
  {
   "cell_type": "code",
   "execution_count": null,
   "id": "4243ce2a",
   "metadata": {},
   "outputs": [],
   "source": []
  },
  {
   "cell_type": "code",
   "execution_count": null,
   "id": "39fd56bf",
   "metadata": {},
   "outputs": [],
   "source": []
  },
  {
   "cell_type": "markdown",
   "id": "15b20d99",
   "metadata": {},
   "source": [
    "## Snowflake"
   ]
  },
  {
   "cell_type": "code",
   "execution_count": 30,
   "id": "7cb45a24",
   "metadata": {},
   "outputs": [
    {
     "name": "stdout",
     "output_type": "stream",
     "text": [
      "[\u001b[34m2024-07-31T12:56:16.179-0700\u001b[0m] {\u001b[34mconnection.py:\u001b[0m414} INFO\u001b[0m - Snowflake Connector for Python Version: 3.12.0, Python Version: 3.10.14, Platform: macOS-10.16-x86_64-i386-64bit\u001b[0m\n",
      "[\u001b[34m2024-07-31T12:56:16.181-0700\u001b[0m] {\u001b[34mconnection.py:\u001b[0m1187} INFO\u001b[0m - Connecting to GLOBAL Snowflake domain\u001b[0m\n",
      "[\u001b[34m2024-07-31T12:56:16.181-0700\u001b[0m] {\u001b[34mconnection.py:\u001b[0m1268} INFO\u001b[0m - This connection is in OCSP Fail Open Mode. TLS Certificates would be checked for validity and revocation status. Any other Certificate Revocation related exceptions or OCSP Responder failures would be disregarded in favor of connectivity.\u001b[0m\n"
     ]
    }
   ],
   "source": [
    "import snowflake.connector\n",
    "\n",
    "conn = snowflake.connector.connect(\n",
    "    user = 'leoichen',\n",
    "    password = 'Snowflake195!!',\n",
    "    account = 'sl69037.us-central1.gcp'\n",
    ")\n",
    "\n",
    "\n",
    "cursor = conn.cursor()"
   ]
  },
  {
   "cell_type": "code",
   "execution_count": 34,
   "id": "677fbcf2",
   "metadata": {},
   "outputs": [
    {
     "name": "stdout",
     "output_type": "stream",
     "text": [
      "[\u001b[34m2024-07-31T12:59:21.077-0700\u001b[0m] {\u001b[34mcursor.py:\u001b[0m1156} INFO\u001b[0m - Number of results in first chunk: 1\u001b[0m\n",
      "[\u001b[34m2024-07-31T12:59:21.197-0700\u001b[0m] {\u001b[34mcursor.py:\u001b[0m1156} INFO\u001b[0m - Number of results in first chunk: 1\u001b[0m\n",
      "[\u001b[34m2024-07-31T12:59:21.342-0700\u001b[0m] {\u001b[34mcursor.py:\u001b[0m1156} INFO\u001b[0m - Number of results in first chunk: 1\u001b[0m\n",
      "[\u001b[34m2024-07-31T12:59:21.483-0700\u001b[0m] {\u001b[34mcursor.py:\u001b[0m1156} INFO\u001b[0m - Number of results in first chunk: 1\u001b[0m\n"
     ]
    },
    {
     "data": {
      "text/plain": [
       "<snowflake.connector.cursor.SnowflakeCursor at 0x7fd889ffa0e0>"
      ]
     },
     "execution_count": 34,
     "metadata": {},
     "output_type": "execute_result"
    }
   ],
   "source": [
    "cursor.execute('CREATE WAREHOUSE IF NOT EXISTS spotify_warehouse')\n",
    "cursor.execute('CREATE DATABASE IF NOT EXISTS spotify_db')\n",
    "cursor.execute('USE DATABASE spotify_db')\n",
    "cursor.execute('CREATE SCHEMA IF NOT EXISTS spotify_schema')"
   ]
  },
  {
   "cell_type": "code",
   "execution_count": null,
   "id": "1dde5be8",
   "metadata": {},
   "outputs": [],
   "source": []
  }
 ],
 "metadata": {
  "kernelspec": {
   "display_name": "main-ml",
   "language": "python",
   "name": "main-ml"
  },
  "language_info": {
   "codemirror_mode": {
    "name": "ipython",
    "version": 3
   },
   "file_extension": ".py",
   "mimetype": "text/x-python",
   "name": "python",
   "nbconvert_exporter": "python",
   "pygments_lexer": "ipython3",
   "version": "3.10.14"
  }
 },
 "nbformat": 4,
 "nbformat_minor": 5
}
