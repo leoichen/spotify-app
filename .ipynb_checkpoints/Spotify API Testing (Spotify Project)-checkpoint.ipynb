{
 "cells": [
  {
   "cell_type": "markdown",
   "id": "a2a475f5",
   "metadata": {},
   "source": [
    "## Spotify API"
   ]
  },
  {
   "cell_type": "code",
   "execution_count": 57,
   "id": "66363b46",
   "metadata": {},
   "outputs": [],
   "source": [
    "import spotipy\n",
    "from spotipy.oauth2 import SpotifyClientCredentials\n",
    "\n",
    "client_id = '34c13569cb8f4b3f8e770d2087ba64ac'\n",
    "client_secret = 'a80605ded4e44c2db72a018981a59d9f'\n",
    "\n",
    "# Authenticate with Spotify\n",
    "auth_manager = SpotifyClientCredentials(client_id=client_id, client_secret=client_secret)\n",
    "sp = spotipy.Spotify(auth_manager=auth_manager)\n",
    "\n"
   ]
  },
  {
   "cell_type": "code",
   "execution_count": 68,
   "id": "1c26352e",
   "metadata": {},
   "outputs": [
    {
     "data": {
      "text/plain": [
       "20"
      ]
     },
     "execution_count": 68,
     "metadata": {},
     "output_type": "execute_result"
    }
   ],
   "source": [
    "import pandas as pd\n",
    "\n",
    "track_res = sp.search(q='genre:pop', type = 'track', limit = 20)\n",
    "tracks = track_res['tracks']['items']\n",
    "\n",
    "all_dicts = []\n",
    "for item in tracks:\n",
    "    cur_dict = sp.audio_features(item['id'])[0]\n",
    "    cur_dict['name'] = item['name']\n",
    "    cur_dict['artist'] = item['artists'][0]['name']\n",
    "    cur_dict['album'] = item['album']['name']\n",
    "    \n",
    "    all_dicts.append(cur_dict)\n",
    "\n",
    "df = pd.DataFrame(all_dicts)\n",
    "column_order = ['name', 'artist', 'album'] + [col for col in df.columns if col not in ['name', 'artist', 'album']]\n",
    "df = df[column_order]\n",
    "df.head()"
   ]
  },
  {
   "cell_type": "code",
   "execution_count": 35,
   "id": "a0b1bf0a",
   "metadata": {},
   "outputs": [
    {
     "name": "stdout",
     "output_type": "stream",
     "text": [
      "Access Token: BQB6jkAgaN-dZxtv0Njv82rybDFQ5X_gTCCLj55Fd_2gmCkJwzEA-MBUsddoBuhkfcEhS60R9tBLANJosfd1aONxxx8kL_DN2chtpe-y9c8O8gZ__Sg\n"
     ]
    }
   ],
   "source": [
    "import requests\n",
    "import base64\n",
    "\n",
    "\n",
    "client_id = '34c13569cb8f4b3f8e770d2087ba64ac'\n",
    "client_secret = 'a80605ded4e44c2db72a018981a59d9f'\n",
    "\n",
    "auth_str = f'{client_id}:{client_secret}'\n",
    "b64_auth_str = base64.b64encode(auth_str.encode()).decode()\n",
    "\n",
    "headers = {\n",
    "    'Authorization': f'Basic {b64_auth_str}'\n",
    "}\n",
    "\n",
    "data = {\n",
    "    'grant_type': 'client_credentials'\n",
    "}\n",
    "\n",
    "response = requests.post('https://accounts.spotify.com/api/token', headers = headers, data = data)\n",
    "access_token = response.json().get('access_token')\n",
    "\n",
    "print(f'Access Token: {access_token}')"
   ]
  },
  {
   "cell_type": "code",
   "execution_count": 36,
   "id": "1c60d305",
   "metadata": {},
   "outputs": [],
   "source": [
    "headers = {\n",
    "    'Authorization': f'Bearer {access_token}'\n",
    "}\n",
    "\n",
    "params = {\n",
    "    'q': 'genre:pop',\n",
    "    'type': 'track', \n",
    "    'limit': 50\n",
    "}\n",
    "\n",
    "response = requests.get('https://api.spotify.com/v1/search', headers = headers, params = params)\n",
    "search_results = response.json()\n",
    "\n"
   ]
  },
  {
   "cell_type": "code",
   "execution_count": 55,
   "id": "c3853d7a",
   "metadata": {},
   "outputs": [
    {
     "data": {
      "text/plain": [
       "'I Had Some Help (Feat. Morgan Wallen)'"
      ]
     },
     "execution_count": 55,
     "metadata": {},
     "output_type": "execute_result"
    }
   ],
   "source": [
    "search_results['tracks']['items']"
   ]
  },
  {
   "cell_type": "code",
   "execution_count": 13,
   "id": "9ac61e54",
   "metadata": {},
   "outputs": [
    {
     "name": "stdout",
     "output_type": "stream",
     "text": [
      "I Had Some Help (Feat. Morgan Wallen) by Post Malone\n",
      "Please Please Please by Sabrina Carpenter\n",
      "BIRDS OF A FEATHER by Billie Eilish\n",
      "Good Luck, Babe! by Chappell Roan\n",
      "Espresso by Sabrina Carpenter\n",
      "A Bar Song (Tipsy) by Shaboozey\n",
      "HOT TO GO! by Chappell Roan\n",
      "LUNCH by Billie Eilish\n",
      "Red Wine Supernova by Chappell Roan\n",
      "Pink Pony Club by Chappell Roan\n",
      "CHIHIRO by Billie Eilish\n",
      "Stargazing by Myles Smith\n",
      "A Bar Song (Tipsy) by Shaboozey\n",
      "Cruel Summer by Taylor Swift\n",
      "End of Beginning by Djo\n",
      "Too Sweet by Hozier\n",
      "Slow It Down by Benson Boone\n",
      "Saturn by SZA\n",
      "Fortnight (feat. Post Malone) by Taylor Swift\n",
      "Feather by Sabrina Carpenter\n",
      "360 by Charli xcx\n",
      "Beautiful Things by Benson Boone\n",
      "Pour Me A Drink (Feat. Blake Shelton) by Post Malone\n",
      "Casual by Chappell Roan\n",
      "Too Sweet by Hozier\n",
      "Sweater Weather by The Neighbourhood\n",
      "WILDFLOWER by Billie Eilish\n",
      "Wind Up Missin’ You by Tucker Wetmore\n",
      "Snooze by SZA\n",
      "Nonsense by Sabrina Carpenter\n",
      "As It Was by Harry Styles\n",
      "you look like you love me (feat. Riley Green) by Ella Langley\n",
      "Miles On It by Marshmello\n",
      "Belong Together by Mark Ambor\n",
      "Beautiful Things by Benson Boone\n",
      "misses by Dominic Fike\n",
      "I Can Do It With a Broken Heart by Taylor Swift\n",
      "Femininomenon by Chappell Roan\n",
      "Heartless (feat. Morgan Wallen) by Diplo\n",
      "High Road (feat. Jessie Murph) by Koe Wetzel\n",
      "Shut up My Moms Calling by Hotel Ugly\n",
      "My Kink Is Karma by Chappell Roan\n",
      "Who by Jimin\n",
      "L’AMOUR DE MA VIE by Billie Eilish\n",
      "One Of The Girls (with JENNIE, Lily Rose Depp) by The Weeknd\n",
      "we can't be friends (wait for your love) by Ariana Grande\n",
      "Ric Flair Drip (with Metro Boomin) by Offset\n",
      "greedy by Tate McRae\n",
      "Smeraldo Garden Marching Band (feat. Loco) by Jimin\n",
      "BLUE by Billie Eilish\n"
     ]
    }
   ],
   "source": [
    "for item in search_results['tracks']['items']:\n",
    "    print(f\"{item['name']} by {item['artists'][0]['name']}\")"
   ]
  },
  {
   "cell_type": "code",
   "execution_count": null,
   "id": "4243ce2a",
   "metadata": {},
   "outputs": [],
   "source": []
  },
  {
   "cell_type": "code",
   "execution_count": null,
   "id": "3816bcaa",
   "metadata": {},
   "outputs": [],
   "source": []
  },
  {
   "cell_type": "markdown",
   "id": "26d2da87",
   "metadata": {},
   "source": [
    "## Snowflake"
   ]
  },
  {
   "cell_type": "code",
   "execution_count": 30,
   "id": "102f39f9",
   "metadata": {},
   "outputs": [
    {
     "name": "stdout",
     "output_type": "stream",
     "text": [
      "[\u001b[34m2024-07-31T12:56:16.179-0700\u001b[0m] {\u001b[34mconnection.py:\u001b[0m414} INFO\u001b[0m - Snowflake Connector for Python Version: 3.12.0, Python Version: 3.10.14, Platform: macOS-10.16-x86_64-i386-64bit\u001b[0m\n",
      "[\u001b[34m2024-07-31T12:56:16.181-0700\u001b[0m] {\u001b[34mconnection.py:\u001b[0m1187} INFO\u001b[0m - Connecting to GLOBAL Snowflake domain\u001b[0m\n",
      "[\u001b[34m2024-07-31T12:56:16.181-0700\u001b[0m] {\u001b[34mconnection.py:\u001b[0m1268} INFO\u001b[0m - This connection is in OCSP Fail Open Mode. TLS Certificates would be checked for validity and revocation status. Any other Certificate Revocation related exceptions or OCSP Responder failures would be disregarded in favor of connectivity.\u001b[0m\n"
     ]
    }
   ],
   "source": [
    "import snowflake.connector\n",
    "\n",
    "conn = snowflake.connector.connect(\n",
    "    user = 'leoichen',\n",
    "    password = 'Snowflake195!!',\n",
    "    account = 'sl69037.us-central1.gcp'\n",
    ")\n",
    "\n",
    "\n",
    "cursor = conn.cursor()"
   ]
  },
  {
   "cell_type": "code",
   "execution_count": 34,
   "id": "c430c5bc",
   "metadata": {},
   "outputs": [
    {
     "name": "stdout",
     "output_type": "stream",
     "text": [
      "[\u001b[34m2024-07-31T12:59:21.077-0700\u001b[0m] {\u001b[34mcursor.py:\u001b[0m1156} INFO\u001b[0m - Number of results in first chunk: 1\u001b[0m\n",
      "[\u001b[34m2024-07-31T12:59:21.197-0700\u001b[0m] {\u001b[34mcursor.py:\u001b[0m1156} INFO\u001b[0m - Number of results in first chunk: 1\u001b[0m\n",
      "[\u001b[34m2024-07-31T12:59:21.342-0700\u001b[0m] {\u001b[34mcursor.py:\u001b[0m1156} INFO\u001b[0m - Number of results in first chunk: 1\u001b[0m\n",
      "[\u001b[34m2024-07-31T12:59:21.483-0700\u001b[0m] {\u001b[34mcursor.py:\u001b[0m1156} INFO\u001b[0m - Number of results in first chunk: 1\u001b[0m\n"
     ]
    },
    {
     "data": {
      "text/plain": [
       "<snowflake.connector.cursor.SnowflakeCursor at 0x7fd889ffa0e0>"
      ]
     },
     "execution_count": 34,
     "metadata": {},
     "output_type": "execute_result"
    }
   ],
   "source": [
    "cursor.execute('CREATE WAREHOUSE IF NOT EXISTS spotify_warehouse')\n",
    "cursor.execute('CREATE DATABASE IF NOT EXISTS spotify_db')\n",
    "cursor.execute('USE DATABASE spotify_db')\n",
    "cursor.execute('CREATE SCHEMA IF NOT EXISTS spotify_schema')"
   ]
  },
  {
   "cell_type": "code",
   "execution_count": null,
   "id": "ea25e4d0",
   "metadata": {},
   "outputs": [],
   "source": []
  }
 ],
 "metadata": {
  "kernelspec": {
   "display_name": "main-ml",
   "language": "python",
   "name": "main-ml"
  },
  "language_info": {
   "codemirror_mode": {
    "name": "ipython",
    "version": 3
   },
   "file_extension": ".py",
   "mimetype": "text/x-python",
   "name": "python",
   "nbconvert_exporter": "python",
   "pygments_lexer": "ipython3",
   "version": "3.10.14"
  }
 },
 "nbformat": 4,
 "nbformat_minor": 5
}
